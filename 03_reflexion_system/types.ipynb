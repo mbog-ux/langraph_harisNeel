{
 "cells": [
  {
   "cell_type": "code",
   "execution_count": 18,
   "id": "1f8747d5",
   "metadata": {},
   "outputs": [
    {
     "data": {
      "text/plain": [
       "Country(name='France', language='French', capital='Paris')"
      ]
     },
     "execution_count": 18,
     "metadata": {},
     "output_type": "execute_result"
    }
   ],
   "source": [
    "from pydantic import BaseModel,Field\n",
    "from langchain_openai import ChatOpenAI\n",
    "from dotenv import load_dotenv\n",
    "load_dotenv()\n",
    "\n",
    "llm = ChatOpenAI(model='gpt-4o-mini')\n",
    "\n",
    "class Country(BaseModel):\n",
    "\n",
    "    \"\"\"Information about country\"\"\"\n",
    "    \n",
    "    name: str = Field(description=\"name of the country\")\n",
    "    language: str = Field(description=\"language of the country\")\n",
    "    capital: str = Field(description=\"capital of the country\")\n",
    "\n",
    "structured_llm = llm.with_structured_output(Country)\n",
    "structured_llm.invoke(\"Tell me about france\")"
   ]
  },
  {
   "cell_type": "code",
   "execution_count": 19,
   "id": "f17f51ac",
   "metadata": {},
   "outputs": [
    {
     "data": {
      "text/plain": [
       "{'setup': 'Why was the cat sitting on the computer?',\n",
       " 'punchline': 'Because he wanted to keep an eye on the mouse!',\n",
       " 'raint': 7}"
      ]
     },
     "execution_count": 19,
     "metadata": {},
     "output_type": "execute_result"
    }
   ],
   "source": [
    "from typing import Annotated, TypedDict, Optional\n",
    "\n",
    "class Joke(TypedDict):\n",
    "    \"\"\"Joke to tell user.\"\"\"\n",
    "\n",
    "    setup: Annotated[str,...,\"The setup of the jokes\"]\n",
    "    punchline: Annotated[str,...,\"The punchline of the joke\"]\n",
    "    raint: Annotated[Optional[int],None,\"How funy the jokes is from 1 to 10 \"]\n",
    "\n",
    "structured_llm = llm.with_structured_output(Joke)\n",
    "structured_llm.invoke(\"Tell me a joke about cats\")\n"
   ]
  }
 ],
 "metadata": {
  "kernelspec": {
   "display_name": "Python 3",
   "language": "python",
   "name": "python3"
  },
  "language_info": {
   "codemirror_mode": {
    "name": "ipython",
    "version": 3
   },
   "file_extension": ".py",
   "mimetype": "text/x-python",
   "name": "python",
   "nbconvert_exporter": "python",
   "pygments_lexer": "ipython3",
   "version": "3.11.4"
  }
 },
 "nbformat": 4,
 "nbformat_minor": 5
}
